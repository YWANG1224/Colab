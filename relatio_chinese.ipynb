{
  "cells": [
    {
      "cell_type": "markdown",
      "metadata": {
        "id": "view-in-github",
        "colab_type": "text"
      },
      "source": [
        "<a href=\"https://colab.research.google.com/github/YWANG1224/Colab/blob/main/relatio_chinese.ipynb\" target=\"_parent\"><img src=\"https://colab.research.google.com/assets/colab-badge.svg\" alt=\"Open In Colab\"/></a>"
      ]
    },
    {
      "cell_type": "markdown",
      "id": "1c462fb3",
      "metadata": {
        "id": "1c462fb3"
      },
      "source": [
        "# RELATIO package test with Chinese text"
      ]
    },
    {
      "cell_type": "markdown",
      "id": "fb9f1a21",
      "metadata": {
        "id": "fb9f1a21"
      },
      "source": [
        "### This is a test of RELATIO package with Chinese socia media text. The test data is a sample of Chinese social media: weibo data, collected during the Jan 2022 to May 2022 and contains *** observations.\n"
      ]
    },
    {
      "cell_type": "code",
      "execution_count": null,
      "id": "31c74009",
      "metadata": {
        "id": "31c74009"
      },
      "outputs": [],
      "source": [
        "# Import data\n",
        "import pandas as pd\n"
      ]
    },
    {
      "cell_type": "code",
      "execution_count": null,
      "id": "d10f0d96",
      "metadata": {
        "id": "d10f0d96"
      },
      "outputs": [],
      "source": [
        "df = pd.read_csv('weibo_30w_20220505_10pct.csv', encoding = 'utf-8')"
      ]
    },
    {
      "cell_type": "code",
      "execution_count": null,
      "id": "662b1f80",
      "metadata": {
        "colab": {
          "base_uri": "https://localhost:8080/"
        },
        "id": "662b1f80",
        "outputId": "8042e27e-04b0-4cfa-b2a0-3eea76761d0f"
      },
      "outputs": [
        {
          "output_type": "execute_result",
          "data": {
            "text/plain": [
              "Index(['Unnamed: 0', '_id', 'user_id', 'screen_name', 'bid', 'text',\n",
              "       'article_url', 'location', 'topics', 'at_users', 'pics', 'video_url',\n",
              "       'created_at', 'source', 'attitudes_count', 'comments_count',\n",
              "       'reposts_count', 'retweet'],\n",
              "      dtype='object')"
            ]
          },
          "metadata": {},
          "execution_count": 8
        }
      ],
      "source": [
        "df.columns"
      ]
    },
    {
      "cell_type": "code",
      "execution_count": null,
      "id": "068faf64",
      "metadata": {
        "colab": {
          "base_uri": "https://localhost:8080/"
        },
        "id": "068faf64",
        "outputId": "2570f1c8-5645-4fc9-d9d1-e0c76bf152c6"
      },
      "outputs": [
        {
          "output_type": "execute_result",
          "data": {
            "text/plain": [
              "<bound method NDFrame.head of         Unnamed: 0               _id       user_id screen_name        bid  \\\n",
              "0          1931486  4737295074200963  5.200864e+09       柠檬妮妮子  LfEdlhCRt   \n",
              "1          2274606  4739925751104413  1.097720e+09        营口政务  LgKEn4Dj7   \n",
              "2          4967126  4752475510808609  6.041830e+09        深度黑八  Lm17V3om5   \n",
              "3          6530354  4756737591084734  5.610433e+09        你埼哥哥  LnO0f4ybI   \n",
              "4          7935562  4762891461066907  5.859781e+09     如梦初醒雷春花  Lqo5Q4tyb   \n",
              "...            ...               ...           ...         ...        ...   \n",
              "861063     2118166  4738736900802094  1.644115e+09         新京报  LgfIS3mF0   \n",
              "861064     4555603  4751312660990426  6.498414e+09    小乔今天不喝奶茶  LlwSm49EC   \n",
              "861065     4059267  4749805240191153  1.395292e+09     博弈与多边均衡  LkTF20NJ7   \n",
              "861066     4640497  4751566990738979  6.029167e+09     马卡巴卡略略略  LlDuz36f1   \n",
              "861067     5750277  4754601456442084  6.853023e+09     有本事下课别跑  LmUqRr1SA   \n",
              "\n",
              "                                                     text  \\\n",
              "0                                        再次感叹，哲学是一切学科的基础    \n",
              "1                                                    转发微博   \n",
              "2       颜丙涛最想毁掉的比赛，64-15超14分，眼睁睁被萝卜3杆斯诺克绝杀。#台球# 深度黑八的微...   \n",
              "3                                                    转发微博   \n",
              "4       :主管部门达州市市发改委和人社局我以前和现在反应的诉求不一样都一个问题没解决？暗暗操作就想给...   \n",
              "...                                                   ...   \n",
              "861063  【#新京报WEEKLY# ·冬奥面孔 | 圆梦北京，大满贯，#隋文静韩聪金牌#】2月19日晚...   \n",
              "861064                  本美女（bushi）再也不自己剪刘海了（所以我怎么出门见人吃饭）    \n",
              "861065  转：东航MU5735飞机失事，监控画面释疑：波音737如何才能垂直下坠？社会百态米叔2022...   \n",
              "861066                                               转发微博   \n",
              "861067                                               转发微博   \n",
              "\n",
              "                                       article_url location  \\\n",
              "0       https://m.weibo.cn/detail/4737295074200963      NaN   \n",
              "1       https://m.weibo.cn/detail/4739925751104413      NaN   \n",
              "2       https://m.weibo.cn/detail/4752475510808609      NaN   \n",
              "3       https://m.weibo.cn/detail/4756737591084734      NaN   \n",
              "4       https://m.weibo.cn/detail/4762891461066907      NaN   \n",
              "...                                            ...      ...   \n",
              "861063  https://m.weibo.cn/detail/4738736900802094      NaN   \n",
              "861064  https://m.weibo.cn/detail/4751312660990426      NaN   \n",
              "861065  https://m.weibo.cn/detail/4749805240191153      NaN   \n",
              "861066  https://m.weibo.cn/detail/4751566990738979      NaN   \n",
              "861067  https://m.weibo.cn/detail/4754601456442084      NaN   \n",
              "\n",
              "                            topics          at_users  \\\n",
              "0                              NaN               NaN   \n",
              "1                              NaN               NaN   \n",
              "2                               台球               NaN   \n",
              "3                              NaN               NaN   \n",
              "4                              NaN  国家发展改革委,新京报,人民日报   \n",
              "...                            ...               ...   \n",
              "861063  新京报WEEKLY,隋文静韩聪金牌,葱桶组合互戴金牌               NaN   \n",
              "861064                         NaN               NaN   \n",
              "861065                         NaN               NaN   \n",
              "861066                         NaN               NaN   \n",
              "861067                         NaN               NaN   \n",
              "\n",
              "                                                     pics  \\\n",
              "0                                                     NaN   \n",
              "1                                                     NaN   \n",
              "2                                                     NaN   \n",
              "3                                                     NaN   \n",
              "4                                                     NaN   \n",
              "...                                                   ...   \n",
              "861063  https://wx2.sinaimg.cn/large/001Ngxkily1gzj9ia...   \n",
              "861064  https://wx2.sinaimg.cn/large/0075MGoUly1h0ndst...   \n",
              "861065                                                NaN   \n",
              "861066                                                NaN   \n",
              "861067                                                NaN   \n",
              "\n",
              "                                                video_url        created_at  \\\n",
              "0                                                     NaN  2022-02-16 00:30   \n",
              "1                                                     NaN  2022-02-23 06:43   \n",
              "2       https://f.video.weibocdn.com/o0/DXCYGikYlx07UQ...  2022-03-29 21:52   \n",
              "3                                                     NaN  2022-04-10 16:08   \n",
              "4                                                     NaN  2022-04-27 15:41   \n",
              "...                                                   ...               ...   \n",
              "861063  https://locallimit.us.sinaimg.cn/o0/WADRE8lHlx...  2022-02-19 23:59   \n",
              "861064                                                NaN  2022-03-26 16:51   \n",
              "861065                                                NaN  2022-03-22 13:01   \n",
              "861066                                                NaN  2022-03-27 09:41   \n",
              "861067                                                NaN  2022-04-04 18:39   \n",
              "\n",
              "                 source  attitudes_count  comments_count  reposts_count  \\\n",
              "0       荣耀V20 4800万3D相机              1.0             0.0            0.0   \n",
              "1         HUAWEI P40 5G              1.0             0.0            1.0   \n",
              "2                 微博视频号              0.0             0.0            0.0   \n",
              "3             iPhone客户端              0.0             0.0            0.0   \n",
              "4                Note 9              0.0             0.0            0.0   \n",
              "...                 ...              ...             ...            ...   \n",
              "861063            微博视频号            117.0            26.0           10.0   \n",
              "861064         荣耀X10 5G              2.0            10.0            0.0   \n",
              "861065              NaN              0.0             0.0            0.0   \n",
              "861066    iPhone XS Max              0.0             0.0            0.0   \n",
              "861067       荣耀V9 我想要的快              0.0             0.0            0.0   \n",
              "\n",
              "                                                  retweet  \n",
              "0                                                     NaN  \n",
              "1       {'user_id': 5000609535, 'screen_name': '中国政府网'...  \n",
              "2                                                     NaN  \n",
              "3       {'user_id': 1974162542, 'screen_name': '宝货王哈哈'...  \n",
              "4       {'user_id': 5859781415, 'screen_name': '如梦初醒雷春...  \n",
              "...                                                   ...  \n",
              "861063                                                NaN  \n",
              "861064                                                NaN  \n",
              "861065                                                NaN  \n",
              "861066  {'user_id': 1742566624, 'screen_name': '思想聚焦',...  \n",
              "861067  {'user_id': 6863202017, 'screen_name': '吃鱼小书屋'...  \n",
              "\n",
              "[861068 rows x 18 columns]>"
            ]
          },
          "metadata": {},
          "execution_count": 9
        }
      ],
      "source": [
        "df.head"
      ]
    },
    {
      "cell_type": "code",
      "execution_count": null,
      "id": "7f338702",
      "metadata": {
        "id": "7f338702"
      },
      "outputs": [],
      "source": [
        "# load spacy chinese model\n",
        "python -m spacy download zh_core_web_sm\n",
        "import spacy\n",
        "nlp = spacy.load(\"zh_core_web_sm\")"
      ]
    },
    {
      "cell_type": "code",
      "execution_count": null,
      "id": "1bfb8952",
      "metadata": {
        "id": "1bfb8952"
      },
      "outputs": [],
      "source": [
        ""
      ]
    },
    {
      "cell_type": "code",
      "execution_count": null,
      "id": "a629dea6",
      "metadata": {
        "id": "a629dea6"
      },
      "outputs": [],
      "source": [
        ""
      ]
    },
    {
      "cell_type": "code",
      "execution_count": null,
      "id": "5f11a297",
      "metadata": {
        "id": "5f11a297"
      },
      "outputs": [],
      "source": [
        ""
      ]
    },
    {
      "cell_type": "code",
      "execution_count": null,
      "id": "a9d78a69",
      "metadata": {
        "id": "a9d78a69"
      },
      "outputs": [],
      "source": [
        ""
      ]
    },
    {
      "cell_type": "code",
      "execution_count": null,
      "id": "59254107",
      "metadata": {
        "id": "59254107"
      },
      "outputs": [],
      "source": [
        ""
      ]
    },
    {
      "cell_type": "code",
      "execution_count": null,
      "id": "30bb75fe",
      "metadata": {
        "id": "30bb75fe"
      },
      "outputs": [],
      "source": [
        ""
      ]
    },
    {
      "cell_type": "code",
      "execution_count": null,
      "id": "d469c4f4",
      "metadata": {
        "id": "d469c4f4"
      },
      "outputs": [],
      "source": [
        ""
      ]
    }
  ],
  "metadata": {
    "kernelspec": {
      "display_name": "Python 3 (ipykernel)",
      "language": "python",
      "name": "python3"
    },
    "language_info": {
      "codemirror_mode": {
        "name": "ipython",
        "version": 3
      },
      "file_extension": ".py",
      "mimetype": "text/x-python",
      "name": "python",
      "nbconvert_exporter": "python",
      "pygments_lexer": "ipython3",
      "version": "3.9.7"
    },
    "colab": {
      "name": "relatio_chinese.ipynb",
      "provenance": [],
      "collapsed_sections": [],
      "include_colab_link": true
    }
  },
  "nbformat": 4,
  "nbformat_minor": 5
}